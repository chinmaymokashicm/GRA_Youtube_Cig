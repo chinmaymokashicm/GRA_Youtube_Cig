{
    "cells": [
        {
            "cell_type": "code",
            "execution_count": 5,
            "source": [
                "import pandas as pd\n",
                "from modules.data import Data\n",
                "# from modules.search import Search\n",
                "# from modules.video import Video\n",
                "# from modules.analyze import Analyze\n",
                "# from tqdm.notebook import tqdm\n",
                "import csv"
            ],
            "outputs": [],
            "metadata": {}
        },
        {
            "cell_type": "code",
            "execution_count": 6,
            "source": [
                "df_comments = pd.read_csv(\"generated_tables/comment_threads_v2.csv\", index_col=False)\n",
                "df_video = pd.read_csv(\"generated_tables/video_info.csv\", index_col=False)\n",
                "df_video_tagged = pd.read_csv(\"tagged_v3.csv\", index_col=False)"
            ],
            "outputs": [],
            "metadata": {}
        },
        {
            "cell_type": "code",
            "execution_count": 7,
            "source": [
                "data_obj = Data()"
            ],
            "outputs": [],
            "metadata": {}
        },
        {
            "cell_type": "code",
            "execution_count": 8,
            "source": [
                "df_video_numbered = data_obj.generate_id_lookup(df=df_video, unique_column=\"video_url\", len_identifier=5, rename_to=\"video_number\")\n",
                "df_comments[\"video_url\"] = df_comments[\"video_ID\"].apply(lambda video_ID: data_obj.generate_url(\"video\", video_ID))\n",
                "print(\"Generated video_url\")\n",
                "df_comments = pd.merge(left=df_comments, right=df_video_numbered, on=\"video_url\", validate=\"many_to_one\", suffixes=(\"\", \"_DROP\")).filter(regex=\"^(?!.*_DROP)\")\n",
                "print(\"Merged\")\n",
                "df_comment_thread_numbered = data_obj.generate_id_lookup(df=df_comments, unique_column=\"comment_thread_ID\", len_identifier=6, rename_to=\"comment_thread_number\")\n",
                "print(\"Generated comment_thread_number\")\n",
                "df_comments = pd.merge(left=df_comments, right=df_comment_thread_numbered, on=\"comment_thread_ID\", validate=\"many_to_one\", suffixes=(\"\", \"_DROP\")).filter(regex=\"^(?!.*_DROP)\")\n",
                "print(\"Merged\")\n",
                "df_comment_numbered = data_obj.generate_id_lookup(df=df_comments, unique_column=\"comment_ID\", len_identifier=7, rename_to=\"comment_number\")\n",
                "print(\"Generated comment_number\")\n",
                "df_comments = pd.merge(left=df_comments, right=df_comment_numbered, on=\"comment_ID\", validate=\"many_to_one\", suffixes=(\"\", \"_DROP\")).filter(regex=\"^(?!.*_DROP)\")\n",
                "print(\"Merged\")\n",
                "\n",
                "# Getting a list of all channel_urls (from comments and video datasets)\n",
                "df_comments[\"author_channel_url\"] = df_comments[\"author_channel_ID\"].apply(lambda channel_ID: data_obj.generate_url(\"channel\", channel_ID))\n",
                "list_author_channel_url = list(set(df_comments[\"author_channel_url\"].tolist() + df_video[\"channel_url\"].tolist()))\n",
                "df_author_channel_url = pd.DataFrame(pd.Series(list_author_channel_url), columns=[\"author_channel_url\"])\n",
                "df_author_channel_url_numbered = data_obj.generate_id_lookup(df=df_author_channel_url, unique_column=\"author_channel_url\", len_identifier=7, rename_to=\"author_channel_url_number\")\n",
                "print(\"Generated author_channel_url_number\")\n",
                "df_comments = pd.merge(left=df_comments, right=df_author_channel_url_numbered, on=\"author_channel_url\", validate=\"many_to_one\", suffixes=(\"\", \"_DROP\")).filter(regex=\"^(?!.*_DROP)\")\n",
                "print(\"Merged\")"
            ],
            "outputs": [
                {
                    "output_type": "stream",
                    "name": "stdout",
                    "text": [
                        "Generated video_url\n",
                        "Merged\n",
                        "Generated comment_thread_number\n",
                        "Merged\n"
                    ]
                },
                {
                    "output_type": "error",
                    "ename": "KeyboardInterrupt",
                    "evalue": "",
                    "traceback": [
                        "\u001b[0;31m---------------------------------------------------------------------------\u001b[0m",
                        "\u001b[0;31mKeyboardInterrupt\u001b[0m                         Traceback (most recent call last)",
                        "\u001b[0;32m<ipython-input-8-d464c9e490d5>\u001b[0m in \u001b[0;36m<module>\u001b[0;34m\u001b[0m\n\u001b[1;32m      8\u001b[0m \u001b[0mdf_comments\u001b[0m \u001b[0;34m=\u001b[0m \u001b[0mpd\u001b[0m\u001b[0;34m.\u001b[0m\u001b[0mmerge\u001b[0m\u001b[0;34m(\u001b[0m\u001b[0mleft\u001b[0m\u001b[0;34m=\u001b[0m\u001b[0mdf_comments\u001b[0m\u001b[0;34m,\u001b[0m \u001b[0mright\u001b[0m\u001b[0;34m=\u001b[0m\u001b[0mdf_comment_thread_numbered\u001b[0m\u001b[0;34m,\u001b[0m \u001b[0mon\u001b[0m\u001b[0;34m=\u001b[0m\u001b[0;34m\"comment_thread_ID\"\u001b[0m\u001b[0;34m,\u001b[0m \u001b[0mvalidate\u001b[0m\u001b[0;34m=\u001b[0m\u001b[0;34m\"many_to_one\"\u001b[0m\u001b[0;34m,\u001b[0m \u001b[0msuffixes\u001b[0m\u001b[0;34m=\u001b[0m\u001b[0;34m(\u001b[0m\u001b[0;34m\"\"\u001b[0m\u001b[0;34m,\u001b[0m \u001b[0;34m\"_DROP\"\u001b[0m\u001b[0;34m)\u001b[0m\u001b[0;34m)\u001b[0m\u001b[0;34m.\u001b[0m\u001b[0mfilter\u001b[0m\u001b[0;34m(\u001b[0m\u001b[0mregex\u001b[0m\u001b[0;34m=\u001b[0m\u001b[0;34m\"^(?!.*_DROP)\"\u001b[0m\u001b[0;34m)\u001b[0m\u001b[0;34m\u001b[0m\u001b[0;34m\u001b[0m\u001b[0m\n\u001b[1;32m      9\u001b[0m \u001b[0mprint\u001b[0m\u001b[0;34m(\u001b[0m\u001b[0;34m\"Merged\"\u001b[0m\u001b[0;34m)\u001b[0m\u001b[0;34m\u001b[0m\u001b[0;34m\u001b[0m\u001b[0m\n\u001b[0;32m---> 10\u001b[0;31m \u001b[0mdf_comment_numbered\u001b[0m \u001b[0;34m=\u001b[0m \u001b[0mdata_obj\u001b[0m\u001b[0;34m.\u001b[0m\u001b[0mgenerate_id_lookup\u001b[0m\u001b[0;34m(\u001b[0m\u001b[0mdf\u001b[0m\u001b[0;34m=\u001b[0m\u001b[0mdf_comments\u001b[0m\u001b[0;34m,\u001b[0m \u001b[0munique_column\u001b[0m\u001b[0;34m=\u001b[0m\u001b[0;34m\"comment_ID\"\u001b[0m\u001b[0;34m,\u001b[0m \u001b[0mlen_identifier\u001b[0m\u001b[0;34m=\u001b[0m\u001b[0;36m7\u001b[0m\u001b[0;34m,\u001b[0m \u001b[0mrename_to\u001b[0m\u001b[0;34m=\u001b[0m\u001b[0;34m\"comment_number\"\u001b[0m\u001b[0;34m)\u001b[0m\u001b[0;34m\u001b[0m\u001b[0;34m\u001b[0m\u001b[0m\n\u001b[0m\u001b[1;32m     11\u001b[0m \u001b[0mprint\u001b[0m\u001b[0;34m(\u001b[0m\u001b[0;34m\"Generated comment_number\"\u001b[0m\u001b[0;34m)\u001b[0m\u001b[0;34m\u001b[0m\u001b[0;34m\u001b[0m\u001b[0m\n\u001b[1;32m     12\u001b[0m \u001b[0mdf_comments\u001b[0m \u001b[0;34m=\u001b[0m \u001b[0mpd\u001b[0m\u001b[0;34m.\u001b[0m\u001b[0mmerge\u001b[0m\u001b[0;34m(\u001b[0m\u001b[0mleft\u001b[0m\u001b[0;34m=\u001b[0m\u001b[0mdf_comments\u001b[0m\u001b[0;34m,\u001b[0m \u001b[0mright\u001b[0m\u001b[0;34m=\u001b[0m\u001b[0mdf_comment_numbered\u001b[0m\u001b[0;34m,\u001b[0m \u001b[0mon\u001b[0m\u001b[0;34m=\u001b[0m\u001b[0;34m\"comment_ID\"\u001b[0m\u001b[0;34m,\u001b[0m \u001b[0mvalidate\u001b[0m\u001b[0;34m=\u001b[0m\u001b[0;34m\"many_to_one\"\u001b[0m\u001b[0;34m,\u001b[0m \u001b[0msuffixes\u001b[0m\u001b[0;34m=\u001b[0m\u001b[0;34m(\u001b[0m\u001b[0;34m\"\"\u001b[0m\u001b[0;34m,\u001b[0m \u001b[0;34m\"_DROP\"\u001b[0m\u001b[0;34m)\u001b[0m\u001b[0;34m)\u001b[0m\u001b[0;34m.\u001b[0m\u001b[0mfilter\u001b[0m\u001b[0;34m(\u001b[0m\u001b[0mregex\u001b[0m\u001b[0;34m=\u001b[0m\u001b[0;34m\"^(?!.*_DROP)\"\u001b[0m\u001b[0;34m)\u001b[0m\u001b[0;34m\u001b[0m\u001b[0;34m\u001b[0m\u001b[0m\n",
                        "\u001b[0;32m~/Documents/UTHealth/Code/GRA_Youtube_Cig/modules/data.py\u001b[0m in \u001b[0;36mgenerate_id_lookup\u001b[0;34m(self, df, unique_column, len_identifier, rename_to)\u001b[0m\n\u001b[1;32m     84\u001b[0m             \u001b[0;31m# str_id = (len_identifier - len(str(row[\"index\"]))) * \"0\" + str(row[\"index\"])\u001b[0m\u001b[0;34m\u001b[0m\u001b[0;34m\u001b[0m\u001b[0;34m\u001b[0m\u001b[0m\n\u001b[1;32m     85\u001b[0m             \u001b[0mstr_id\u001b[0m \u001b[0;34m=\u001b[0m \u001b[0;34m(\u001b[0m\u001b[0mlen_identifier\u001b[0m \u001b[0;34m-\u001b[0m \u001b[0mlen\u001b[0m\u001b[0;34m(\u001b[0m\u001b[0mstr_index\u001b[0m\u001b[0;34m)\u001b[0m\u001b[0;34m)\u001b[0m \u001b[0;34m*\u001b[0m \u001b[0;34m\"0\"\u001b[0m \u001b[0;34m+\u001b[0m \u001b[0mstr_index\u001b[0m\u001b[0;34m\u001b[0m\u001b[0;34m\u001b[0m\u001b[0m\n\u001b[0;32m---> 86\u001b[0;31m             \u001b[0mdf_id_numbered\u001b[0m\u001b[0;34m.\u001b[0m\u001b[0mloc\u001b[0m\u001b[0;34m[\u001b[0m\u001b[0mindex\u001b[0m\u001b[0;34m,\u001b[0m \u001b[0;34m\"str_id\"\u001b[0m\u001b[0;34m]\u001b[0m \u001b[0;34m=\u001b[0m \u001b[0mstr_id\u001b[0m\u001b[0;34m\u001b[0m\u001b[0;34m\u001b[0m\u001b[0m\n\u001b[0m\u001b[1;32m     87\u001b[0m         \u001b[0mdf_id_numbered\u001b[0m \u001b[0;34m=\u001b[0m \u001b[0mdf_id_numbered\u001b[0m\u001b[0;34m.\u001b[0m\u001b[0mdrop\u001b[0m\u001b[0;34m(\u001b[0m\u001b[0;34m[\u001b[0m\u001b[0;34m\"index\"\u001b[0m\u001b[0;34m]\u001b[0m\u001b[0;34m,\u001b[0m \u001b[0maxis\u001b[0m\u001b[0;34m=\u001b[0m\u001b[0;36m1\u001b[0m\u001b[0;34m)\u001b[0m\u001b[0;34m\u001b[0m\u001b[0;34m\u001b[0m\u001b[0m\n\u001b[1;32m     88\u001b[0m         \u001b[0mdf_id_numbered\u001b[0m \u001b[0;34m=\u001b[0m \u001b[0mdf_id_numbered\u001b[0m\u001b[0;34m.\u001b[0m\u001b[0mrename\u001b[0m\u001b[0;34m(\u001b[0m\u001b[0mcolumns\u001b[0m\u001b[0;34m=\u001b[0m\u001b[0;34m{\u001b[0m\u001b[0;34m\"str_id\"\u001b[0m\u001b[0;34m:\u001b[0m \u001b[0mrename_to\u001b[0m\u001b[0;34m}\u001b[0m\u001b[0;34m)\u001b[0m\u001b[0;34m\u001b[0m\u001b[0;34m\u001b[0m\u001b[0m\n",
                        "\u001b[0;32m/usr/lib/python3/dist-packages/pandas/core/indexing.py\u001b[0m in \u001b[0;36m__setitem__\u001b[0;34m(self, key, value)\u001b[0m\n\u001b[1;32m    203\u001b[0m             \u001b[0mkey\u001b[0m \u001b[0;34m=\u001b[0m \u001b[0mcom\u001b[0m\u001b[0;34m.\u001b[0m\u001b[0mapply_if_callable\u001b[0m\u001b[0;34m(\u001b[0m\u001b[0mkey\u001b[0m\u001b[0;34m,\u001b[0m \u001b[0mself\u001b[0m\u001b[0;34m.\u001b[0m\u001b[0mobj\u001b[0m\u001b[0;34m)\u001b[0m\u001b[0;34m\u001b[0m\u001b[0;34m\u001b[0m\u001b[0m\n\u001b[1;32m    204\u001b[0m         \u001b[0mindexer\u001b[0m \u001b[0;34m=\u001b[0m \u001b[0mself\u001b[0m\u001b[0;34m.\u001b[0m\u001b[0m_get_setitem_indexer\u001b[0m\u001b[0;34m(\u001b[0m\u001b[0mkey\u001b[0m\u001b[0;34m)\u001b[0m\u001b[0;34m\u001b[0m\u001b[0;34m\u001b[0m\u001b[0m\n\u001b[0;32m--> 205\u001b[0;31m         \u001b[0mself\u001b[0m\u001b[0;34m.\u001b[0m\u001b[0m_setitem_with_indexer\u001b[0m\u001b[0;34m(\u001b[0m\u001b[0mindexer\u001b[0m\u001b[0;34m,\u001b[0m \u001b[0mvalue\u001b[0m\u001b[0;34m)\u001b[0m\u001b[0;34m\u001b[0m\u001b[0;34m\u001b[0m\u001b[0m\n\u001b[0m\u001b[1;32m    206\u001b[0m \u001b[0;34m\u001b[0m\u001b[0m\n\u001b[1;32m    207\u001b[0m     \u001b[0;32mdef\u001b[0m \u001b[0m_validate_key\u001b[0m\u001b[0;34m(\u001b[0m\u001b[0mself\u001b[0m\u001b[0;34m,\u001b[0m \u001b[0mkey\u001b[0m\u001b[0;34m,\u001b[0m \u001b[0maxis\u001b[0m\u001b[0;34m:\u001b[0m \u001b[0mint\u001b[0m\u001b[0;34m)\u001b[0m\u001b[0;34m:\u001b[0m\u001b[0;34m\u001b[0m\u001b[0;34m\u001b[0m\u001b[0m\n",
                        "\u001b[0;32m/usr/lib/python3/dist-packages/pandas/core/indexing.py\u001b[0m in \u001b[0;36m_setitem_with_indexer\u001b[0;34m(self, indexer, value)\u001b[0m\n\u001b[1;32m    555\u001b[0m                 \u001b[0;31m# scalar\u001b[0m\u001b[0;34m\u001b[0m\u001b[0;34m\u001b[0m\u001b[0;34m\u001b[0m\u001b[0m\n\u001b[1;32m    556\u001b[0m                 \u001b[0;32mfor\u001b[0m \u001b[0mitem\u001b[0m \u001b[0;32min\u001b[0m \u001b[0mlabels\u001b[0m\u001b[0;34m:\u001b[0m\u001b[0;34m\u001b[0m\u001b[0;34m\u001b[0m\u001b[0m\n\u001b[0;32m--> 557\u001b[0;31m                     \u001b[0msetter\u001b[0m\u001b[0;34m(\u001b[0m\u001b[0mitem\u001b[0m\u001b[0;34m,\u001b[0m \u001b[0mvalue\u001b[0m\u001b[0;34m)\u001b[0m\u001b[0;34m\u001b[0m\u001b[0;34m\u001b[0m\u001b[0m\n\u001b[0m\u001b[1;32m    558\u001b[0m \u001b[0;34m\u001b[0m\u001b[0m\n\u001b[1;32m    559\u001b[0m         \u001b[0;32melse\u001b[0m\u001b[0;34m:\u001b[0m\u001b[0;34m\u001b[0m\u001b[0;34m\u001b[0m\u001b[0m\n",
                        "\u001b[0;32m/usr/lib/python3/dist-packages/pandas/core/indexing.py\u001b[0m in \u001b[0;36msetter\u001b[0;34m(item, v)\u001b[0m\n\u001b[1;32m    492\u001b[0m \u001b[0;34m\u001b[0m\u001b[0m\n\u001b[1;32m    493\u001b[0m                 \u001b[0;31m# reset the sliced object if unique\u001b[0m\u001b[0;34m\u001b[0m\u001b[0;34m\u001b[0m\u001b[0;34m\u001b[0m\u001b[0m\n\u001b[0;32m--> 494\u001b[0;31m                 \u001b[0mself\u001b[0m\u001b[0;34m.\u001b[0m\u001b[0mobj\u001b[0m\u001b[0;34m[\u001b[0m\u001b[0mitem\u001b[0m\u001b[0;34m]\u001b[0m \u001b[0;34m=\u001b[0m \u001b[0ms\u001b[0m\u001b[0;34m\u001b[0m\u001b[0;34m\u001b[0m\u001b[0m\n\u001b[0m\u001b[1;32m    495\u001b[0m \u001b[0;34m\u001b[0m\u001b[0m\n\u001b[1;32m    496\u001b[0m             \u001b[0;31m# we need an iterable, with a ndim of at least 1\u001b[0m\u001b[0;34m\u001b[0m\u001b[0;34m\u001b[0m\u001b[0;34m\u001b[0m\u001b[0m\n",
                        "\u001b[0;32m/usr/lib/python3/dist-packages/pandas/core/frame.py\u001b[0m in \u001b[0;36m__setitem__\u001b[0;34m(self, key, value)\u001b[0m\n\u001b[1;32m   3485\u001b[0m         \u001b[0;32melse\u001b[0m\u001b[0;34m:\u001b[0m\u001b[0;34m\u001b[0m\u001b[0;34m\u001b[0m\u001b[0m\n\u001b[1;32m   3486\u001b[0m             \u001b[0;31m# set column\u001b[0m\u001b[0;34m\u001b[0m\u001b[0;34m\u001b[0m\u001b[0;34m\u001b[0m\u001b[0m\n\u001b[0;32m-> 3487\u001b[0;31m             \u001b[0mself\u001b[0m\u001b[0;34m.\u001b[0m\u001b[0m_set_item\u001b[0m\u001b[0;34m(\u001b[0m\u001b[0mkey\u001b[0m\u001b[0;34m,\u001b[0m \u001b[0mvalue\u001b[0m\u001b[0;34m)\u001b[0m\u001b[0;34m\u001b[0m\u001b[0;34m\u001b[0m\u001b[0m\n\u001b[0m\u001b[1;32m   3488\u001b[0m \u001b[0;34m\u001b[0m\u001b[0m\n\u001b[1;32m   3489\u001b[0m     \u001b[0;32mdef\u001b[0m \u001b[0m_setitem_slice\u001b[0m\u001b[0;34m(\u001b[0m\u001b[0mself\u001b[0m\u001b[0;34m,\u001b[0m \u001b[0mkey\u001b[0m\u001b[0;34m,\u001b[0m \u001b[0mvalue\u001b[0m\u001b[0;34m)\u001b[0m\u001b[0;34m:\u001b[0m\u001b[0;34m\u001b[0m\u001b[0;34m\u001b[0m\u001b[0m\n",
                        "\u001b[0;31mKeyboardInterrupt\u001b[0m: "
                    ]
                }
            ],
            "metadata": {}
        },
        {
            "cell_type": "code",
            "execution_count": null,
            "source": [
                "df_comments = df_comments.drop(columns=[\"video_ID\", \"comment_thread_ID\", \"comment_ID\", \"author_channel_ID\", \"author_channel_url\", \"video_url\"])"
            ],
            "outputs": [],
            "metadata": {}
        },
        {
            "cell_type": "code",
            "execution_count": null,
            "source": [
                "df_comments.head()"
            ],
            "outputs": [
                {
                    "output_type": "execute_result",
                    "data": {
                        "text/plain": [
                            "                                             comment  like_count  \\\n",
                            "0  All my weed is from the same dispensary (Truli...         0.0   \n",
                            "1  All my weed is from the same dispensary (Truli...         0.0   \n",
                            "2                            I’m vaping rn (From FL)         1.0   \n",
                            "3                            I’m vaping rn (From FL)         1.0   \n",
                            "4  Omg they are so funny and down to earth😂. New ...         0.0   \n",
                            "\n",
                            "             updated_at          publish_time video_number  \\\n",
                            "0  2021-02-12T05:40:14Z  2021-02-12T05:40:14Z        00048   \n",
                            "1  2021-02-12T05:40:14Z  2021-02-12T05:40:14Z        00048   \n",
                            "2  2021-02-08T14:57:54Z  2021-02-08T14:54:23Z        00048   \n",
                            "3  2021-02-08T14:57:54Z  2021-02-08T14:54:23Z        00048   \n",
                            "4  2020-04-20T18:23:10Z  2020-04-20T18:23:10Z        00048   \n",
                            "\n",
                            "  comment_thread_number comment_number author_channel_url_number  \n",
                            "0                000000        0000000                   0013919  \n",
                            "1                000000        0000000                   0013919  \n",
                            "2                000001        0000002                   0013919  \n",
                            "3                000001        0000002                   0013919  \n",
                            "4                000002        0000004                   0006730  "
                        ],
                        "text/html": [
                            "<div>\n",
                            "<style scoped>\n",
                            "    .dataframe tbody tr th:only-of-type {\n",
                            "        vertical-align: middle;\n",
                            "    }\n",
                            "\n",
                            "    .dataframe tbody tr th {\n",
                            "        vertical-align: top;\n",
                            "    }\n",
                            "\n",
                            "    .dataframe thead th {\n",
                            "        text-align: right;\n",
                            "    }\n",
                            "</style>\n",
                            "<table border=\"1\" class=\"dataframe\">\n",
                            "  <thead>\n",
                            "    <tr style=\"text-align: right;\">\n",
                            "      <th></th>\n",
                            "      <th>comment</th>\n",
                            "      <th>like_count</th>\n",
                            "      <th>updated_at</th>\n",
                            "      <th>publish_time</th>\n",
                            "      <th>video_number</th>\n",
                            "      <th>comment_thread_number</th>\n",
                            "      <th>comment_number</th>\n",
                            "      <th>author_channel_url_number</th>\n",
                            "    </tr>\n",
                            "  </thead>\n",
                            "  <tbody>\n",
                            "    <tr>\n",
                            "      <th>0</th>\n",
                            "      <td>All my weed is from the same dispensary (Truli...</td>\n",
                            "      <td>0.0</td>\n",
                            "      <td>2021-02-12T05:40:14Z</td>\n",
                            "      <td>2021-02-12T05:40:14Z</td>\n",
                            "      <td>00048</td>\n",
                            "      <td>000000</td>\n",
                            "      <td>0000000</td>\n",
                            "      <td>0013919</td>\n",
                            "    </tr>\n",
                            "    <tr>\n",
                            "      <th>1</th>\n",
                            "      <td>All my weed is from the same dispensary (Truli...</td>\n",
                            "      <td>0.0</td>\n",
                            "      <td>2021-02-12T05:40:14Z</td>\n",
                            "      <td>2021-02-12T05:40:14Z</td>\n",
                            "      <td>00048</td>\n",
                            "      <td>000000</td>\n",
                            "      <td>0000000</td>\n",
                            "      <td>0013919</td>\n",
                            "    </tr>\n",
                            "    <tr>\n",
                            "      <th>2</th>\n",
                            "      <td>I’m vaping rn (From FL)</td>\n",
                            "      <td>1.0</td>\n",
                            "      <td>2021-02-08T14:57:54Z</td>\n",
                            "      <td>2021-02-08T14:54:23Z</td>\n",
                            "      <td>00048</td>\n",
                            "      <td>000001</td>\n",
                            "      <td>0000002</td>\n",
                            "      <td>0013919</td>\n",
                            "    </tr>\n",
                            "    <tr>\n",
                            "      <th>3</th>\n",
                            "      <td>I’m vaping rn (From FL)</td>\n",
                            "      <td>1.0</td>\n",
                            "      <td>2021-02-08T14:57:54Z</td>\n",
                            "      <td>2021-02-08T14:54:23Z</td>\n",
                            "      <td>00048</td>\n",
                            "      <td>000001</td>\n",
                            "      <td>0000002</td>\n",
                            "      <td>0013919</td>\n",
                            "    </tr>\n",
                            "    <tr>\n",
                            "      <th>4</th>\n",
                            "      <td>Omg they are so funny and down to earth😂. New ...</td>\n",
                            "      <td>0.0</td>\n",
                            "      <td>2020-04-20T18:23:10Z</td>\n",
                            "      <td>2020-04-20T18:23:10Z</td>\n",
                            "      <td>00048</td>\n",
                            "      <td>000002</td>\n",
                            "      <td>0000004</td>\n",
                            "      <td>0006730</td>\n",
                            "    </tr>\n",
                            "  </tbody>\n",
                            "</table>\n",
                            "</div>"
                        ]
                    },
                    "metadata": {},
                    "execution_count": 6
                }
            ],
            "metadata": {}
        },
        {
            "cell_type": "code",
            "execution_count": null,
            "source": [
                "# Generate the anonymized video dataset\n",
                "df_video = df_video.rename(columns={\"channel_url\": \"author_channel_url\"})\n",
                "df_video = pd.merge(left=df_video, right=df_author_channel_url_numbered, on=\"author_channel_url\", validate=\"many_to_one\", suffixes=(\"\", \"_DROP\")).filter(regex=\"^(?!.*_DROP)\")\n",
                "print(\"Anonymized author_channel_url from video dataset\")\n",
                "df_video = pd.merge(left=df_video, right=df_video_numbered, on=\"video_url\", validate=\"one_to_one\", suffixes=(\"\", \"_DROP\")).filter(regex=\"^(?!.*_DROP)\")\n",
                "print(\"Anonymized video_url from video dataset\")\n",
                "# Merge with the tagged dataset\n",
                "df_video = pd.merge(left=df_video, right=df_video_tagged, on=\"video_url\", validate=\"many_to_one\", suffixes=(\"\", \"_DROP\")).filter(regex=\"^(?!.*_DROP)\")\n",
                "print(\"Merged with tagged video dataset\")"
            ],
            "outputs": [
                {
                    "output_type": "stream",
                    "name": "stdout",
                    "text": [
                        "Anonymized author_channel_url from video dataset\n",
                        "Anonymized video_url from video dataset\n",
                        "Merged with tagged video dataset\n"
                    ]
                }
            ],
            "metadata": {}
        },
        {
            "cell_type": "code",
            "execution_count": null,
            "source": [
                "# Drop video_url and channel_url\n",
                "df_video = df_video.drop(columns=[\"video_url\", \"author_channel_url\"])"
            ],
            "outputs": [],
            "metadata": {}
        },
        {
            "cell_type": "code",
            "execution_count": null,
            "source": [
                "# Save the mapping\n",
                "df_video_numbered.to_csv(\"unique_id_map/video_numbered.csv\", index=False, quoting=csv.QUOTE_ALL)\n",
                "df_comment_thread_numbered.to_csv(\"unique_id_map/comment_thread_numbered.csv\", index=False, quoting=csv.QUOTE_ALL)\n",
                "df_comment_numbered.to_csv(\"unique_id_map/comment_numbered.csv\", index=False, quoting=csv.QUOTE_ALL)\n",
                "df_author_channel_url_numbered.to_csv(\"unique_id_map/author_channel_url_numbered.csv\", index=False, quoting=csv.QUOTE_ALL)"
            ],
            "outputs": [],
            "metadata": {}
        },
        {
            "cell_type": "code",
            "execution_count": null,
            "source": [
                "# Save the anonymized comments dataset\n",
                "df_comments.to_csv(\"unique_id_map/comments_anonymized.csv\", index=False, quoting=csv.QUOTE_ALL)"
            ],
            "outputs": [],
            "metadata": {}
        },
        {
            "cell_type": "code",
            "execution_count": null,
            "source": [
                "df_video.head()"
            ],
            "outputs": [
                {
                    "output_type": "execute_result",
                    "data": {
                        "text/plain": [
                            "                                         video_title  \\\n",
                            "0  #vAustinL Vape Trick Tutorial -  How to Vape O...   \n",
                            "1                               $100 Vape vs $5 Vape   \n",
                            "2                      New Studio Vape Trick Session   \n",
                            "3   Vape Trick Tutorial - How to: Bane French Inhale   \n",
                            "4                    Amazing Vape Bubble Compilation   \n",
                            "\n",
                            "                                   video_description  view_count  like_count  \\\n",
                            "0  If you’re new to tricking, have no fear. It ju...       37391         565   \n",
                            "1  Expensive box mod vs a regular disposable stic...      363589        4730   \n",
                            "2  Catch me live on twitch! https://www.twitch.tv...     2683795       64849   \n",
                            "3  Catch me live on twitch! https://www.twitch.tv...     4706152       68394   \n",
                            "4  Catch me live on twitch! https://www.twitch.tv...    17299923      242855   \n",
                            "\n",
                            "   dislike_count  favorite_count  comment_count          publish_time  \\\n",
                            "0             18               0             23  2019-05-08T06:37:58Z   \n",
                            "1            237               0            217  2019-09-21T17:19:33Z   \n",
                            "2           1075               0           1881  2019-01-11T20:16:37Z   \n",
                            "3           1511               0           1647  2017-04-14T22:58:04Z   \n",
                            "4           7676               0           7715  2018-05-26T19:42:43Z   \n",
                            "\n",
                            "  video_duration author_channel_url_number video_number category  \\\n",
                            "0        PT5M11S                   0005292        00000    Risky   \n",
                            "1        PT5M25S                   0023761        00001    Risky   \n",
                            "2         PT3M6S                   0001501        00002    Risky   \n",
                            "3        PT3M24S                   0001501        00031    Risky   \n",
                            "4        PT3M16S                   0001501        00042    Risky   \n",
                            "\n",
                            "           theme  \n",
                            "0  Vaping tricks  \n",
                            "1      Marketing  \n",
                            "2  Vaping tricks  \n",
                            "3  Vaping tricks  \n",
                            "4  Vaping tricks  "
                        ],
                        "text/html": [
                            "<div>\n",
                            "<style scoped>\n",
                            "    .dataframe tbody tr th:only-of-type {\n",
                            "        vertical-align: middle;\n",
                            "    }\n",
                            "\n",
                            "    .dataframe tbody tr th {\n",
                            "        vertical-align: top;\n",
                            "    }\n",
                            "\n",
                            "    .dataframe thead th {\n",
                            "        text-align: right;\n",
                            "    }\n",
                            "</style>\n",
                            "<table border=\"1\" class=\"dataframe\">\n",
                            "  <thead>\n",
                            "    <tr style=\"text-align: right;\">\n",
                            "      <th></th>\n",
                            "      <th>video_title</th>\n",
                            "      <th>video_description</th>\n",
                            "      <th>view_count</th>\n",
                            "      <th>like_count</th>\n",
                            "      <th>dislike_count</th>\n",
                            "      <th>favorite_count</th>\n",
                            "      <th>comment_count</th>\n",
                            "      <th>publish_time</th>\n",
                            "      <th>video_duration</th>\n",
                            "      <th>author_channel_url_number</th>\n",
                            "      <th>video_number</th>\n",
                            "      <th>category</th>\n",
                            "      <th>theme</th>\n",
                            "    </tr>\n",
                            "  </thead>\n",
                            "  <tbody>\n",
                            "    <tr>\n",
                            "      <th>0</th>\n",
                            "      <td>#vAustinL Vape Trick Tutorial -  How to Vape O...</td>\n",
                            "      <td>If you’re new to tricking, have no fear. It ju...</td>\n",
                            "      <td>37391</td>\n",
                            "      <td>565</td>\n",
                            "      <td>18</td>\n",
                            "      <td>0</td>\n",
                            "      <td>23</td>\n",
                            "      <td>2019-05-08T06:37:58Z</td>\n",
                            "      <td>PT5M11S</td>\n",
                            "      <td>0005292</td>\n",
                            "      <td>00000</td>\n",
                            "      <td>Risky</td>\n",
                            "      <td>Vaping tricks</td>\n",
                            "    </tr>\n",
                            "    <tr>\n",
                            "      <th>1</th>\n",
                            "      <td>$100 Vape vs $5 Vape</td>\n",
                            "      <td>Expensive box mod vs a regular disposable stic...</td>\n",
                            "      <td>363589</td>\n",
                            "      <td>4730</td>\n",
                            "      <td>237</td>\n",
                            "      <td>0</td>\n",
                            "      <td>217</td>\n",
                            "      <td>2019-09-21T17:19:33Z</td>\n",
                            "      <td>PT5M25S</td>\n",
                            "      <td>0023761</td>\n",
                            "      <td>00001</td>\n",
                            "      <td>Risky</td>\n",
                            "      <td>Marketing</td>\n",
                            "    </tr>\n",
                            "    <tr>\n",
                            "      <th>2</th>\n",
                            "      <td>New Studio Vape Trick Session</td>\n",
                            "      <td>Catch me live on twitch! https://www.twitch.tv...</td>\n",
                            "      <td>2683795</td>\n",
                            "      <td>64849</td>\n",
                            "      <td>1075</td>\n",
                            "      <td>0</td>\n",
                            "      <td>1881</td>\n",
                            "      <td>2019-01-11T20:16:37Z</td>\n",
                            "      <td>PT3M6S</td>\n",
                            "      <td>0001501</td>\n",
                            "      <td>00002</td>\n",
                            "      <td>Risky</td>\n",
                            "      <td>Vaping tricks</td>\n",
                            "    </tr>\n",
                            "    <tr>\n",
                            "      <th>3</th>\n",
                            "      <td>Vape Trick Tutorial - How to: Bane French Inhale</td>\n",
                            "      <td>Catch me live on twitch! https://www.twitch.tv...</td>\n",
                            "      <td>4706152</td>\n",
                            "      <td>68394</td>\n",
                            "      <td>1511</td>\n",
                            "      <td>0</td>\n",
                            "      <td>1647</td>\n",
                            "      <td>2017-04-14T22:58:04Z</td>\n",
                            "      <td>PT3M24S</td>\n",
                            "      <td>0001501</td>\n",
                            "      <td>00031</td>\n",
                            "      <td>Risky</td>\n",
                            "      <td>Vaping tricks</td>\n",
                            "    </tr>\n",
                            "    <tr>\n",
                            "      <th>4</th>\n",
                            "      <td>Amazing Vape Bubble Compilation</td>\n",
                            "      <td>Catch me live on twitch! https://www.twitch.tv...</td>\n",
                            "      <td>17299923</td>\n",
                            "      <td>242855</td>\n",
                            "      <td>7676</td>\n",
                            "      <td>0</td>\n",
                            "      <td>7715</td>\n",
                            "      <td>2018-05-26T19:42:43Z</td>\n",
                            "      <td>PT3M16S</td>\n",
                            "      <td>0001501</td>\n",
                            "      <td>00042</td>\n",
                            "      <td>Risky</td>\n",
                            "      <td>Vaping tricks</td>\n",
                            "    </tr>\n",
                            "  </tbody>\n",
                            "</table>\n",
                            "</div>"
                        ]
                    },
                    "metadata": {},
                    "execution_count": 11
                }
            ],
            "metadata": {}
        },
        {
            "cell_type": "code",
            "execution_count": null,
            "source": [
                "# Save the dataset\n",
                "df_video.to_csv(\"unique_id_map/videos_anonymized.csv\", index=False, quoting=csv.QUOTE_ALL)"
            ],
            "outputs": [],
            "metadata": {}
        }
    ],
    "metadata": {
        "orig_nbformat": 4,
        "language_info": {
            "name": "python",
            "version": "3.8.10",
            "mimetype": "text/x-python",
            "codemirror_mode": {
                "name": "ipython",
                "version": 3
            },
            "pygments_lexer": "ipython3",
            "nbconvert_exporter": "python",
            "file_extension": ".py"
        },
        "kernelspec": {
            "name": "python3",
            "display_name": "Python 3.8.10 64-bit"
        },
        "interpreter": {
            "hash": "31f2aee4e71d21fbe5cf8b01ff0e069b9275f58929596ceb00d14d90e3e16cd6"
        }
    },
    "nbformat": 4,
    "nbformat_minor": 2
}